{
 "cells": [
  {
   "cell_type": "markdown",
   "id": "1df78a71",
   "metadata": {},
   "source": [
    "# Build an Agent\n",
    "\n",
    "语言模型本身无法执行操作 - 它们只是输出文本。 `LangChain` 的一个重要用例是创建 agents。Agents 是使用 LLM 作为推理引擎的系统，以确定要采取哪些操作以及执行操作所需的输入。执行操作后，可以将结果反馈回 LLM，以确定是否需要更多操作，或者是否可以完成。这通常通过工具调用实现。\n",
    "\n",
    "## End-to-end agent\n",
    "\n",
    "下面的代码片段表示一个功能齐全的 Agent，它使用 LLM 来决定使用哪些工具。它配备了一个通用搜索工具。它具有对话记忆 - 意味着它可以作为多轮聊天机器人使用。"
   ]
  },
  {
   "cell_type": "code",
   "execution_count": 14,
   "id": "87ea4db6",
   "metadata": {},
   "outputs": [],
   "source": [
    "# Load environment variables\n",
    "from dotenv import load_dotenv\n",
    "load_dotenv()\n",
    "\n",
    "# Import relevant functionality\n",
    "from langchain_openai import ChatOpenAI\n",
    "from langchain_tavily import TavilySearch\n",
    "from langgraph.checkpoint.memory import MemorySaver\n",
    "from langchain.prompts import PromptTemplate\n",
    "from langgraph.prebuilt import create_react_agent\n"
   ]
  },
  {
   "cell_type": "code",
   "execution_count": 15,
   "id": "86d9386b-442f-4cd6-a78f-57c88249d3f0",
   "metadata": {},
   "outputs": [],
   "source": [
    "# Create the agent\n",
    "\n",
    "# MemorySaver\n",
    "memory = MemorySaver()\n",
    "\n",
    "# Chat model\n",
    "model = ChatOpenAI(model=\"gpt-4o-mini\", temperature=0, max_tokens=1000)\n",
    "\n",
    "# Tool\n",
    "search = TavilySearch(max_results=2)\n",
    "tools = [search]\n",
    "\n",
    "# Create the agent (using model, tools, and memory storage)\n",
    "agent_executor = create_react_agent(model, tools, checkpointer=memory)"
   ]
  },
  {
   "cell_type": "code",
   "execution_count": 16,
   "id": "7ab50503-d09f-4ff4-9080-5afe297ccc38",
   "metadata": {},
   "outputs": [
    {
     "name": "stdout",
     "output_type": "stream",
     "text": [
      "================================\u001b[1m Human Message \u001b[0m=================================\n",
      "\n",
      "Hi, I'm Benwu and I live in Zhuhai, Guangdong Province, China.\n",
      "==================================\u001b[1m Ai Message \u001b[0m==================================\n",
      "\n",
      "Hello Benwu! It's great to meet you. How can I assist you today?\n"
     ]
    }
   ],
   "source": [
    "# Use the agent\n",
    "config = {\"configurable\": {\"thread_id\": \"abc123\"}}\n",
    "\n",
    "input_message = {\n",
    "    \"role\": \"user\",\n",
    "    \"content\": \"Hi, I'm Benwu and I live in Zhuhai, Guangdong Province, China.\",\n",
    "}\n",
    "\n",
    "# Stream the agent's response\n",
    "for step in agent_executor.stream(\n",
    "    {\"messages\": [input_message]}, config, stream_mode=\"values\"\n",
    "):\n",
    "    step[\"messages\"][-1].pretty_print()"
   ]
  },
  {
   "cell_type": "code",
   "execution_count": 17,
   "id": "fcadb699-3787-4028-a5f6-e5605c8118d4",
   "metadata": {},
   "outputs": [
    {
     "name": "stdout",
     "output_type": "stream",
     "text": [
      "================================\u001b[1m Human Message \u001b[0m=================================\n",
      "\n",
      "What's the weather where I live?\n",
      "==================================\u001b[1m Ai Message \u001b[0m==================================\n",
      "Tool Calls:\n",
      "  tavily_search (call_5G1ZHd55bHlrk8PpREVG2qep)\n",
      " Call ID: call_5G1ZHd55bHlrk8PpREVG2qep\n",
      "  Args:\n",
      "    query: Zhuhai Guangdong weather\n",
      "    topic: general\n",
      "=================================\u001b[1m Tool Message \u001b[0m=================================\n",
      "Name: tavily_search\n",
      "\n",
      "{\"query\": \"Zhuhai Guangdong weather\", \"follow_up_questions\": null, \"answer\": null, \"images\": [], \"results\": [{\"title\": \"Weather in Zhuhai, Guangdong\", \"url\": \"https://www.weatherapi.com/\", \"content\": \"{'location': {'name': 'Zhuhai', 'region': 'Guangdong', 'country': 'China', 'lat': 22.2769, 'lon': 113.5678, 'tz_id': 'Asia/Shanghai', 'localtime_epoch': 1751956328, 'localtime': '2025-07-08 14:32'}, 'current': {'last_updated_epoch': 1751956200, 'last_updated': '2025-07-08 14:30', 'temp_c': 32.2, 'temp_f': 90.0, 'is_day': 1, 'condition': {'text': 'Overcast', 'icon': '//cdn.weatherapi.com/weather/64x64/day/122.png', 'code': 1009}, 'wind_mph': 13.6, 'wind_kph': 22.0, 'wind_degree': 204, 'wind_dir': 'SSW', 'pressure_mb': 1002.0, 'pressure_in': 29.59, 'precip_mm': 0.0, 'precip_in': 0.0, 'humidity': 71, 'cloud': 50, 'feelslike_c': 40.5, 'feelslike_f': 104.9, 'windchill_c': 31.5, 'windchill_f': 88.6, 'heatindex_c': 38.5, 'heatindex_f': 101.3, 'dewpoint_c': 25.2, 'dewpoint_f': 77.4, 'vis_km': 10.0, 'vis_miles': 6.0, 'uv': 9.7, 'gust_mph': 23.3, 'gust_kph': 37.5}}\", \"score\": 0.9548158, \"raw_content\": null}, {\"url\": \"https://wisemeteo.com/en/country/china/region/guangdong-province/city/zhuhai/date/08-07\", \"title\": \"Zhuhai, Guangdong Province - weather outlook for 7 August 2025\", \"content\": \"For Zhuhai they forecast cooler than usual autumn weather. Over a period of the autumn the temperature will go up to 86 °F and down to 64 °F ... Read forecast\", \"score\": 0.95176035, \"raw_content\": null}], \"response_time\": 4.77}\n",
      "==================================\u001b[1m Ai Message \u001b[0m==================================\n",
      "\n",
      "The current weather in Zhuhai, Guangdong is as follows:\n",
      "\n",
      "- **Temperature**: 32.2°C (90.0°F)\n",
      "- **Condition**: Overcast\n",
      "- **Wind**: 22.0 kph (13.6 mph) from the SSW\n",
      "- **Humidity**: 71%\n",
      "- **Visibility**: 10 km\n",
      "- **Feels Like**: 40.5°C (104.9°F)\n",
      "\n",
      "For more detailed information, you can check the weather [here](https://www.weatherapi.com/).\n"
     ]
    }
   ],
   "source": [
    "input_message = {\n",
    "    \"role\": \"user\",\n",
    "    \"content\": \"What's the weather where I live?\",\n",
    "}\n",
    "\n",
    "for step in agent_executor.stream(\n",
    "    {\"messages\": [input_message]}, config, stream_mode=\"values\"\n",
    "):\n",
    "    step[\"messages\"][-1].pretty_print()"
   ]
  },
  {
   "cell_type": "markdown",
   "id": "c335d1bf",
   "metadata": {},
   "source": [
    "## Define tools\n",
    "\n",
    "使用Tavily（搜索引擎）作为工具。获取API_KEY并加入环境变量中。\n"
   ]
  },
  {
   "cell_type": "code",
   "execution_count": 18,
   "id": "76a02d36-6ea2-4e62-88b4-6c480dd9c04f",
   "metadata": {},
   "outputs": [
    {
     "name": "stdout",
     "output_type": "stream",
     "text": [
      "{'query': 'What is the weather in Zhuhai, Guangdong Province, China?', 'follow_up_questions': None, 'answer': None, 'images': [], 'results': [{'title': 'Weather in Zhuhai, Guangdong Province, China', 'url': 'https://www.weatherapi.com/', 'content': \"{'location': {'name': 'Zhuhai', 'region': 'Guangdong', 'country': 'China', 'lat': 22.2769, 'lon': 113.5678, 'tz_id': 'Asia/Shanghai', 'localtime_epoch': 1751957327, 'localtime': '2025-07-08 14:48'}, 'current': {'last_updated_epoch': 1751957100, 'last_updated': '2025-07-08 14:45', 'temp_c': 32.2, 'temp_f': 90.0, 'is_day': 1, 'condition': {'text': 'Overcast', 'icon': '//cdn.weatherapi.com/weather/64x64/day/122.png', 'code': 1009}, 'wind_mph': 13.6, 'wind_kph': 22.0, 'wind_degree': 204, 'wind_dir': 'SSW', 'pressure_mb': 1002.0, 'pressure_in': 29.59, 'precip_mm': 0.0, 'precip_in': 0.0, 'humidity': 71, 'cloud': 50, 'feelslike_c': 40.5, 'feelslike_f': 104.9, 'windchill_c': 31.5, 'windchill_f': 88.6, 'heatindex_c': 38.5, 'heatindex_f': 101.3, 'dewpoint_c': 25.2, 'dewpoint_f': 77.4, 'vis_km': 10.0, 'vis_miles': 6.0, 'uv': 9.7, 'gust_mph': 23.3, 'gust_kph': 37.5}}\", 'score': 0.9718388, 'raw_content': None}, {'url': 'https://tripvenue.com/weather/china/l1790437/zhuhai/august', 'title': 'Weather in Zhuhai in August 2025 - Tripvenue', 'content': 'August weather forecast for Zhuhai, China. Average temperature in August is 27.9 °C. Average daytime temperature is 30.7 °C. Average night temperature is', 'score': 0.90907925, 'raw_content': None}], 'response_time': 4.86}\n"
     ]
    }
   ],
   "source": [
    "# Test of the Tavily search tool\n",
    "from langchain_tavily import TavilySearch\n",
    "\n",
    "search = TavilySearch(max_results=2)\n",
    "search_results = search.invoke(\"What is the weather in Zhuhai, Guangdong Province, China?\")\n",
    "print(search_results)\n",
    "\n",
    "# If we want, we can create other tools.\n",
    "# Once we have all the tools we want, we can put them in a list that we will reference later.\n",
    "tools = [search]"
   ]
  },
  {
   "cell_type": "markdown",
   "id": "ecbc86d8",
   "metadata": {},
   "source": [
    "通过定义python函数等方式可以自定义工具。 `LangChain` 支持使用自定义工具。\n",
    "\n"
   ]
  },
  {
   "cell_type": "markdown",
   "id": "e00068b0",
   "metadata": {},
   "source": [
    "## Using Language Models\n",
    "\n",
    "`LangChain` 支持不同的语言模型。\n"
   ]
  },
  {
   "cell_type": "code",
   "execution_count": 19,
   "id": "0320314d",
   "metadata": {},
   "outputs": [
    {
     "data": {
      "text/plain": [
       "True"
      ]
     },
     "execution_count": 19,
     "metadata": {},
     "output_type": "execute_result"
    }
   ],
   "source": [
    "from dotenv import load_dotenv\n",
    "load_dotenv()"
   ]
  },
  {
   "cell_type": "code",
   "execution_count": 20,
   "id": "69185491",
   "metadata": {},
   "outputs": [],
   "source": [
    "# Create the model\n",
    "\n",
    "from langchain_openai import ChatOpenAI\n",
    "from langchain.schema import HumanMessage\n",
    "\n",
    "model = ChatOpenAI(model=\"gpt-4o-mini\", temperature=0, max_tokens=1000)"
   ]
  },
  {
   "cell_type": "markdown",
   "id": "642ed8bf",
   "metadata": {},
   "source": [
    "可以通过传入消息列表来调用语言模型。 默认情况下，响应是一个 `content` 字符串。"
   ]
  },
  {
   "cell_type": "code",
   "execution_count": 21,
   "id": "c96c960b",
   "metadata": {},
   "outputs": [
    {
     "data": {
      "text/plain": [
       "'Hello! How can I assist you today?'"
      ]
     },
     "execution_count": 21,
     "metadata": {},
     "output_type": "execute_result"
    }
   ],
   "source": [
    "query = \"Hi!\"\n",
    "response = model.invoke([{\"role\": \"user\", \"content\": query}])\n",
    "response.text()"
   ]
  },
  {
   "cell_type": "markdown",
   "id": "47bf8210",
   "metadata": {},
   "source": [
    "可以看到启用此模型进行工具调用是什么样的。 为了启用它，我们使用 `.bind_tools` 为语言模型提供这些工具的知识"
   ]
  },
  {
   "cell_type": "code",
   "execution_count": 22,
   "id": "ba692a74",
   "metadata": {},
   "outputs": [],
   "source": [
    "model_with_tools = model.bind_tools(tools)"
   ]
  },
  {
   "cell_type": "markdown",
   "id": "fd920b69",
   "metadata": {},
   "source": [
    "启动模型并查看 `content` 字段以及 `tool_calls` 字段，获取相应和模型对工具的调用（实际上没有调用任何工具，只是模型的请求）。"
   ]
  },
  {
   "cell_type": "code",
   "execution_count": 23,
   "id": "b6a7e925",
   "metadata": {},
   "outputs": [
    {
     "name": "stdout",
     "output_type": "stream",
     "text": [
      "Message content: Hello! How can I assist you today?\n",
      "\n",
      "Tool calls: []\n"
     ]
    }
   ],
   "source": [
    "query = \"Hi!\"\n",
    "response = model_with_tools.invoke([{\"role\": \"user\", \"content\": query}])\n",
    "\n",
    "print(f\"Message content: {response.text()}\\n\")\n",
    "print(f\"Tool calls: {response.tool_calls}\")"
   ]
  },
  {
   "cell_type": "markdown",
   "id": "03c583a5",
   "metadata": {},
   "source": [
    "可以看到，对于简单的输入，模型并不需要调用任何工具。"
   ]
  },
  {
   "cell_type": "markdown",
   "id": "e8c81e76",
   "metadata": {},
   "source": [
    "现在尝试输入一些可能需要调用工具的内容。"
   ]
  },
  {
   "cell_type": "code",
   "execution_count": 24,
   "id": "688b465d",
   "metadata": {},
   "outputs": [
    {
     "name": "stdout",
     "output_type": "stream",
     "text": [
      "Message content: \n",
      "\n",
      "Tool calls: [{'name': 'tavily_search', 'args': {'query': 'weather in Zhuhai, Guangdong Province, China', 'topic': 'general'}, 'id': 'call_7zEzSwNHMXdmBkD3J5KrrWCR', 'type': 'tool_call'}]\n"
     ]
    }
   ],
   "source": [
    "query = \"Search for the weather in Zhuhai, Guangdong Province, China.\"\n",
    "response = model_with_tools.invoke([{\"role\": \"user\", \"content\": query}])\n",
    "\n",
    "print(f\"Message content: {response.text()}\\n\")\n",
    "print(f\"Tool calls: {response.tool_calls}\")"
   ]
  },
  {
   "cell_type": "markdown",
   "id": "83c4bcd3",
   "metadata": {},
   "source": [
    "我们可以看到现在没有文本内容，但有一个工具调用！ 它希望我们调用 Tavily 搜索工具。\n",
    "\n",
    "这还没有调用该工具 - 它只是告诉我们这样做。 为了实际调用它，我们将需要创建我们的 Agent。\n",
    "\n",
    "这告诉我们模型本身并不直接调用工具，只是发出请求。实际调用工具的是 Agent。"
   ]
  },
  {
   "cell_type": "markdown",
   "id": "40ccec80",
   "metadata": {},
   "source": [
    "## Create the agent\n",
    "\n",
    "现在已经定义了工具和 LLM，就可以创建 Agent 了。 我们将使用 LangGraph 来构建 Agent。 \n",
    "\n",
    "目前，我们正在使用高级接口来构建 Agent，但 LangGraph 的好处在于，这个高级接口由一个低级、高度可控的 API 支持，以防我们想要修改 Agent 逻辑。\n",
    "\n",
    "使用 LLM 和工具初始化 Agent。\n",
    "\n",
    "注意传入的是 `model`，而不是 `model_with_tools`。 这是因为 `create_react_agent` 会在后台调用 `.bind_tools`。"
   ]
  },
  {
   "cell_type": "code",
   "execution_count": 63,
   "id": "89cf72b4-6046-4b47-8f27-5522d8cb8036",
   "metadata": {},
   "outputs": [],
   "source": [
    "from langgraph.prebuilt import create_react_agent\n",
    "\n",
    "agent_executor = create_react_agent(model, tools)"
   ]
  },
  {
   "cell_type": "markdown",
   "id": "e4df0e06",
   "metadata": {},
   "source": [
    "## Run the agent\n",
    "\n",
    "现在可以使用一些查询来运行 Agent 了！ 请注意，目前，这些都是*无状态查询*（它不会记住之前的交互）。 \n",
    "\n",
    "Agent 将在交互结束时返回*最终*状态（包括任何输入）。"
   ]
  },
  {
   "cell_type": "markdown",
   "id": "71493a42",
   "metadata": {},
   "source": [
    "首先让我们看看在不需要调用工具时它是如何响应的:"
   ]
  },
  {
   "cell_type": "code",
   "execution_count": 67,
   "id": "114ba50d",
   "metadata": {},
   "outputs": [
    {
     "name": "stdout",
     "output_type": "stream",
     "text": [
      "================================\u001b[1m Human Message \u001b[0m=================================\n",
      "\n",
      "Hi!\n",
      "==================================\u001b[1m Ai Message \u001b[0m==================================\n",
      "\n",
      "Hello! How can I assist you today?\n"
     ]
    },
    {
     "data": {
      "text/plain": [
       "[HumanMessage(content='Hi!', additional_kwargs={}, response_metadata={}, id='2c9c2a08-b818-42f3-b6e3-e69c54aeccf8'),\n",
       " AIMessage(content='Hello! How can I assist you today?', additional_kwargs={'refusal': None}, response_metadata={'token_usage': {'completion_tokens': 10, 'prompt_tokens': 792, 'total_tokens': 802, 'completion_tokens_details': {'accepted_prediction_tokens': 0, 'audio_tokens': 0, 'reasoning_tokens': 0, 'rejected_prediction_tokens': 0}, 'prompt_tokens_details': {'audio_tokens': 0, 'cached_tokens': 0}}, 'model_name': 'gpt-4o-mini-2024-07-18', 'system_fingerprint': 'fp_34a54ae93c', 'id': 'chatcmpl-Bqx1tyjIQe5p52yBGD2ebboStlbUU', 'service_tier': 'default', 'finish_reason': 'stop', 'logprobs': None}, id='run--c287da67-842f-491a-842a-e5abf3deddca-0', usage_metadata={'input_tokens': 792, 'output_tokens': 10, 'total_tokens': 802, 'input_token_details': {'audio': 0, 'cache_read': 0}, 'output_token_details': {'audio': 0, 'reasoning': 0}})]"
      ]
     },
     "execution_count": 67,
     "metadata": {},
     "output_type": "execute_result"
    }
   ],
   "source": [
    "input_message = {\"role\": \"user\", \"content\": \"Hi!\"}\n",
    "response = agent_executor.invoke({\"messages\": [input_message]})\n",
    "\n",
    "for message in response[\"messages\"]:\n",
    "    message.pretty_print()\n",
    "\n",
    "response[\"messages\"]"
   ]
  },
  {
   "cell_type": "markdown",
   "id": "69a587db",
   "metadata": {},
   "source": [
    "接着看看在需要调用工具时是如何响应的，通过 `.invoke` 调用Agent:"
   ]
  },
  {
   "cell_type": "code",
   "execution_count": 68,
   "id": "77c2f769",
   "metadata": {},
   "outputs": [
    {
     "name": "stdout",
     "output_type": "stream",
     "text": [
      "================================\u001b[1m Human Message \u001b[0m=================================\n",
      "\n",
      "Search for the weather in Zhuhai, Guangdong Province, China.\n",
      "==================================\u001b[1m Ai Message \u001b[0m==================================\n",
      "Tool Calls:\n",
      "  tavily_search (call_0Yq53UMjeekHin4Dl19SYy0V)\n",
      " Call ID: call_0Yq53UMjeekHin4Dl19SYy0V\n",
      "  Args:\n",
      "    query: weather in Zhuhai, Guangdong Province, China\n",
      "    topic: general\n",
      "=================================\u001b[1m Tool Message \u001b[0m=================================\n",
      "Name: tavily_search\n",
      "\n",
      "{\"query\": \"weather in Zhuhai, Guangdong Province, China\", \"follow_up_questions\": null, \"answer\": null, \"images\": [], \"results\": [{\"title\": \"Weather in Zhuhai, Guangdong Province, China\", \"url\": \"https://www.weatherapi.com/\", \"content\": \"{'location': {'name': 'Zhuhai', 'region': 'Guangdong', 'country': 'China', 'lat': 22.2769, 'lon': 113.5678, 'tz_id': 'Asia/Shanghai', 'localtime_epoch': 1751957327, 'localtime': '2025-07-08 14:48'}, 'current': {'last_updated_epoch': 1751957100, 'last_updated': '2025-07-08 14:45', 'temp_c': 32.2, 'temp_f': 90.0, 'is_day': 1, 'condition': {'text': 'Overcast', 'icon': '//cdn.weatherapi.com/weather/64x64/day/122.png', 'code': 1009}, 'wind_mph': 13.6, 'wind_kph': 22.0, 'wind_degree': 204, 'wind_dir': 'SSW', 'pressure_mb': 1002.0, 'pressure_in': 29.59, 'precip_mm': 0.0, 'precip_in': 0.0, 'humidity': 71, 'cloud': 50, 'feelslike_c': 40.5, 'feelslike_f': 104.9, 'windchill_c': 31.5, 'windchill_f': 88.6, 'heatindex_c': 38.5, 'heatindex_f': 101.3, 'dewpoint_c': 25.2, 'dewpoint_f': 77.4, 'vis_km': 10.0, 'vis_miles': 6.0, 'uv': 9.7, 'gust_mph': 23.3, 'gust_kph': 37.5}}\", \"score\": 0.9232228, \"raw_content\": null}, {\"url\": \"https://tripvenue.com/weather/china/l1790437/zhuhai/august\", \"title\": \"Weather in Zhuhai in August 2025 - Tripvenue\", \"content\": \"August weather forecast for Zhuhai, China. Average temperature in August is 27.9 °C. Average daytime temperature is 30.7 °C. Average night temperature is\", \"score\": 0.90849644, \"raw_content\": null}], \"response_time\": 1.2}\n",
      "==================================\u001b[1m Ai Message \u001b[0m==================================\n",
      "\n",
      "The current weather in Zhuhai, Guangdong Province, China is as follows:\n",
      "\n",
      "- **Temperature**: 32.2°C (90.0°F)\n",
      "- **Condition**: Overcast\n",
      "- **Wind**: 13.6 mph (22.0 kph) from the SSW\n",
      "- **Humidity**: 71%\n",
      "- **Pressure**: 1002.0 mb\n",
      "- **Visibility**: 10 km\n",
      "- **UV Index**: 9.7\n",
      "\n",
      "For more detailed information, you can visit [WeatherAPI](https://www.weatherapi.com/). \n",
      "\n",
      "Additionally, you can check the weather forecast for August 2025 in Zhuhai on [Tripvenue](https://tripvenue.com/weather/china/l1790437/zhuhai/august).\n"
     ]
    }
   ],
   "source": [
    "input_message = {\"role\": \"user\", \"content\": \"Search for the weather in Zhuhai, Guangdong Province, China.\"}\n",
    "response = agent_executor.invoke({\"messages\": [input_message]})\n",
    "\n",
    "for message in response[\"messages\"]:\n",
    "    message.pretty_print()"
   ]
  },
  {
   "cell_type": "markdown",
   "id": "8f6ca7e4",
   "metadata": {},
   "source": [
    "## Streaming Messages\n",
    "\n",
    "Agents需要多步执行时，通过查看流信息（流式传输信息）显示中间进程。"
   ]
  },
  {
   "cell_type": "code",
   "execution_count": 29,
   "id": "bd93812b-2350-4d7f-9643-34c753503754",
   "metadata": {},
   "outputs": [
    {
     "name": "stdout",
     "output_type": "stream",
     "text": [
      "================================\u001b[1m Human Message \u001b[0m=================================\n",
      "\n",
      "Search for the weather in Zhuhai, Guangdong Province, China.\n",
      "==================================\u001b[1m Ai Message \u001b[0m==================================\n",
      "Tool Calls:\n",
      "  tavily_search (call_cEugRpP1OQ3CqSFAy7LHI50r)\n",
      " Call ID: call_cEugRpP1OQ3CqSFAy7LHI50r\n",
      "  Args:\n",
      "    query: weather in Zhuhai, Guangdong Province, China\n",
      "    topic: general\n",
      "=================================\u001b[1m Tool Message \u001b[0m=================================\n",
      "Name: tavily_search\n",
      "\n",
      "{\"query\": \"weather in Zhuhai, Guangdong Province, China\", \"follow_up_questions\": null, \"answer\": null, \"images\": [], \"results\": [{\"title\": \"Weather in Zhuhai, Guangdong Province, China\", \"url\": \"https://www.weatherapi.com/\", \"content\": \"{'location': {'name': 'Zhuhai', 'region': 'Guangdong', 'country': 'China', 'lat': 22.2769, 'lon': 113.5678, 'tz_id': 'Asia/Shanghai', 'localtime_epoch': 1751957327, 'localtime': '2025-07-08 14:48'}, 'current': {'last_updated_epoch': 1751957100, 'last_updated': '2025-07-08 14:45', 'temp_c': 32.2, 'temp_f': 90.0, 'is_day': 1, 'condition': {'text': 'Overcast', 'icon': '//cdn.weatherapi.com/weather/64x64/day/122.png', 'code': 1009}, 'wind_mph': 13.6, 'wind_kph': 22.0, 'wind_degree': 204, 'wind_dir': 'SSW', 'pressure_mb': 1002.0, 'pressure_in': 29.59, 'precip_mm': 0.0, 'precip_in': 0.0, 'humidity': 71, 'cloud': 50, 'feelslike_c': 40.5, 'feelslike_f': 104.9, 'windchill_c': 31.5, 'windchill_f': 88.6, 'heatindex_c': 38.5, 'heatindex_f': 101.3, 'dewpoint_c': 25.2, 'dewpoint_f': 77.4, 'vis_km': 10.0, 'vis_miles': 6.0, 'uv': 9.7, 'gust_mph': 23.3, 'gust_kph': 37.5}}\", \"score\": 0.9232228, \"raw_content\": null}, {\"url\": \"https://tripvenue.com/weather/china/l1790437/zhuhai/august\", \"title\": \"Weather in Zhuhai in August 2025 - Tripvenue\", \"content\": \"August weather forecast for Zhuhai, China. Average temperature in August is 27.9 °C. Average daytime temperature is 30.7 °C. Average night temperature is\", \"score\": 0.90849644, \"raw_content\": null}], \"response_time\": 1.37}\n",
      "==================================\u001b[1m Ai Message \u001b[0m==================================\n",
      "\n",
      "The current weather in Zhuhai, Guangdong Province, China is as follows:\n",
      "\n",
      "- **Temperature**: 32.2°C (90.0°F)\n",
      "- **Condition**: Overcast\n",
      "- **Wind**: 13.6 mph (22.0 kph) from the SSW\n",
      "- **Humidity**: 71%\n",
      "- **Pressure**: 1002.0 mb\n",
      "- **Visibility**: 10 km\n",
      "- **UV Index**: 9.7\n",
      "\n",
      "For more detailed weather information, you can visit [Weather API](https://www.weatherapi.com/).\n",
      "\n",
      "Additionally, you can check the weather forecast for August 2025 in Zhuhai on [Tripvenue](https://tripvenue.com/weather/china/l1790437/zhuhai/august).\n"
     ]
    }
   ],
   "source": [
    "for step in agent_executor.stream({\"messages\": [input_message]}, stream_mode=\"values\"):\n",
    "    step[\"messages\"][-1].pretty_print()"
   ]
  },
  {
   "cell_type": "markdown",
   "id": "c72b3043",
   "metadata": {},
   "source": [
    "## Streaming tokens\n",
    "\n",
    "除了流式传输消息之外，流式传输tokes也很有用。可以通过指定 `stream_mode=\"messages\"` 来做到这一点。"
   ]
  },
  {
   "cell_type": "code",
   "execution_count": 30,
   "id": "63198158-380e-43a3-a2ad-d4288949c1d4",
   "metadata": {},
   "outputs": [
    {
     "name": "stdout",
     "output_type": "stream",
     "text": [
      "The| current| weather| in| Zh|uh|ai|,| Guangdong| Province|,| China| is| as| follows|:\n",
      "\n",
      "|-| **|Temperature|**|:| |32|.|2|°C| (|90|.|0|°F|)\n",
      "|-| **|Condition|**|:| Over|cast|\n",
      "|-| **|Wind|**|:| |13|.|6| mph| (|22|.|0| k|ph|)| from| the| S|SW|\n",
      "|-| **|Humidity|**|:| |71|%\n",
      "|-| **|Pressure|**|:| |100|2|.|0| mb|\n",
      "|-| **|Visibility|**|:| |10| km|\n",
      "|-| **|UV| Index|**|:| |9|.|7|\n",
      "\n",
      "|For| more| detailed| information|,| you| can| visit| [|Weather|API|](|https|://|www|.weather|api|.com|/|).| \n",
      "\n",
      "|Additionally|,| if| you're| interested| in| the| weather| forecast| for| August| |202|5|,| you| can| check| [|Trip|venue|](|https|://|trip|venue|.com|/weather|/ch|ina|/l|179|043|7|/|zh|uh|ai|/|aug|ust|).|"
     ]
    }
   ],
   "source": [
    "for step, metadata in agent_executor.stream(\n",
    "    {\"messages\": [input_message]}, stream_mode=\"messages\"\n",
    "):\n",
    "    if metadata[\"langgraph_node\"] == \"agent\" and (text := step.text()):\n",
    "        print(text, end=\"|\")"
   ]
  },
  {
   "cell_type": "markdown",
   "id": "022cbc8a",
   "metadata": {},
   "source": [
    "## Adding in memory\n",
    "如前所述此Agent是无状态的。这意味着它不记得之前的交互。"
   ]
  },
  {
   "cell_type": "code",
   "execution_count": 69,
   "id": "27b96579",
   "metadata": {},
   "outputs": [
    {
     "name": "stdout",
     "output_type": "stream",
     "text": [
      "================================\u001b[1m Human Message \u001b[0m=================================\n",
      "\n",
      "Hi, I'm Benwu!\n",
      "==================================\u001b[1m Ai Message \u001b[0m==================================\n",
      "\n",
      "Hello Benwu! How can I assist you today?\n",
      "================================\u001b[1m Human Message \u001b[0m=================================\n",
      "\n",
      "What's my name?\n",
      "==================================\u001b[1m Ai Message \u001b[0m==================================\n",
      "\n",
      "I'm sorry, but I don't have access to personal information about users unless it has been shared with me in the course of our conversation. If you'd like to tell me your name, I can remember it for the duration of our chat!\n"
     ]
    }
   ],
   "source": [
    "input_message = {\"role\": \"user\", \"content\": \"Hi, I'm Benwu!\"}\n",
    "for step in agent_executor.stream(\n",
    "    {\"messages\": [input_message]}, config, stream_mode=\"values\"\n",
    "):\n",
    "    step[\"messages\"][-1].pretty_print()\n",
    "\n",
    "input_message = {\"role\": \"user\", \"content\": \"What's my name?\"}\n",
    "for step in agent_executor.stream(\n",
    "    {\"messages\": [input_message]}, config, stream_mode=\"values\"\n",
    "):\n",
    "    step[\"messages\"][-1].pretty_print()"
   ]
  },
  {
   "cell_type": "markdown",
   "id": "3d8bef2c",
   "metadata": {},
   "source": [
    "为了实现记忆功能，我们需要传入一个检查点 `checkpoint` 和一个 `thread_id`（以便它知道要从哪个线程/对话恢复）。"
   ]
  },
  {
   "cell_type": "code",
   "execution_count": 70,
   "id": "c4073e35",
   "metadata": {},
   "outputs": [],
   "source": [
    "from langgraph.checkpoint.memory import MemorySaver\n",
    "\n",
    "memory = MemorySaver()"
   ]
  },
  {
   "cell_type": "code",
   "execution_count": 71,
   "id": "e64a944e-f9ac-43cf-903c-d3d28d765377",
   "metadata": {},
   "outputs": [],
   "source": [
    "agent_executor = create_react_agent(model, tools, checkpointer=memory)\n",
    "\n",
    "config = {\"configurable\": {\"thread_id\": \"abc123\"}}"
   ]
  },
  {
   "cell_type": "code",
   "execution_count": 72,
   "id": "a13462d0-2d02-4474-921e-15a1ba1fa274",
   "metadata": {},
   "outputs": [
    {
     "name": "stdout",
     "output_type": "stream",
     "text": [
      "================================\u001b[1m Human Message \u001b[0m=================================\n",
      "\n",
      "Hi, I'm Benwu!\n",
      "==================================\u001b[1m Ai Message \u001b[0m==================================\n",
      "\n",
      "Hello Benwu! How can I assist you today?\n"
     ]
    }
   ],
   "source": [
    "input_message = {\"role\": \"user\", \"content\": \"Hi, I'm Benwu!\"}\n",
    "for step in agent_executor.stream(\n",
    "    {\"messages\": [input_message]}, config, stream_mode=\"values\"\n",
    "):\n",
    "    step[\"messages\"][-1].pretty_print()"
   ]
  },
  {
   "cell_type": "code",
   "execution_count": 73,
   "id": "56d8028b-5dbc-40b2-86f5-ed60631d86a3",
   "metadata": {},
   "outputs": [
    {
     "name": "stdout",
     "output_type": "stream",
     "text": [
      "================================\u001b[1m Human Message \u001b[0m=================================\n",
      "\n",
      "What's my name?\n",
      "==================================\u001b[1m Ai Message \u001b[0m==================================\n",
      "\n",
      "Your name is Benwu! How can I help you today?\n"
     ]
    }
   ],
   "source": [
    "input_message = {\"role\": \"user\", \"content\": \"What's my name?\"}\n",
    "for step in agent_executor.stream(\n",
    "    {\"messages\": [input_message]}, config, stream_mode=\"values\"\n",
    "):\n",
    "    step[\"messages\"][-1].pretty_print()"
   ]
  },
  {
   "cell_type": "markdown",
   "id": "ae908088",
   "metadata": {},
   "source": [
    "想要创建一个新的聊天只需要创建一个新的 `thread_id` （更改进程名）。"
   ]
  },
  {
   "cell_type": "code",
   "execution_count": 74,
   "id": "24460239",
   "metadata": {},
   "outputs": [
    {
     "name": "stdout",
     "output_type": "stream",
     "text": [
      "================================\u001b[1m Human Message \u001b[0m=================================\n",
      "\n",
      "What's my name?\n",
      "==================================\u001b[1m Ai Message \u001b[0m==================================\n",
      "\n",
      "I don't have access to personal data about users unless it has been shared with me in the course of our conversation. Therefore, I don't know your name. If you'd like to share it, feel free!\n"
     ]
    }
   ],
   "source": [
    "# highlight-next-line\n",
    "config = {\"configurable\": {\"thread_id\": \"xyz123\"}}\n",
    "\n",
    "input_message = {\"role\": \"user\", \"content\": \"What's my name?\"}\n",
    "for step in agent_executor.stream(\n",
    "    {\"messages\": [input_message]}, config, stream_mode=\"values\"\n",
    "):\n",
    "    step[\"messages\"][-1].pretty_print()"
   ]
  },
  {
   "cell_type": "markdown",
   "id": "ba2a9b89",
   "metadata": {},
   "source": [
    "## LangGraph"
   ]
  },
  {
   "cell_type": "markdown",
   "id": "0a994af5",
   "metadata": {},
   "source": [
    "上述Agent仅仅使用了一个搜索tool，那如果我有很多个tool，需要他们之间按顺序进行协作，完成指定任务呢？\n",
    "\n",
    "`LangGraph` 提供了这样的框架：将每个工具定义为有向图中的结点（node），通过有向边（edge）进行连接表示执行的流程，用图（Graph）的方式表示Agent的工作流程。每个结点包含一个状态，所有结点函数接收并返回这个结构。\n",
    "\n",
    "下面通过一个文本分析总结Agent进行学习："
   ]
  },
  {
   "cell_type": "code",
   "execution_count": 4,
   "id": "5a405a5b",
   "metadata": {},
   "outputs": [],
   "source": [
    "import os\n",
    "from dotenv import load_dotenv\n",
    "load_dotenv()\n",
    "from typing import TypedDict, List\n",
    "from langgraph.graph import StateGraph, END\n",
    "from langchain.prompts import PromptTemplate\n",
    "from langchain_openai import ChatOpenAI\n",
    "from langchain.schema import HumanMessage\n",
    "\n",
    "llm = ChatOpenAI(model = 'gpt-4o-mini', temperature = 0)"
   ]
  },
  {
   "cell_type": "markdown",
   "id": "9f860587",
   "metadata": {},
   "source": [
    "`LangGraph` 是基于“有状态流程图”（Stateful Graph）的系统，每个结点处理一个任务，同时接收和传递一个“state”字典。我们需要为Agent定义状态，使用TypedDict定义状态结构。\n",
    "\n",
    "`TypedDict` 是 Python `typing` 模块中的一种类型注解工具，允许你为字典（`dict`）指定键（key）和值（value）的类型。它让你可以像定义一个类一样，定义结构化的字典，并且在静态类型检查工具（如 mypy、Pyright）中获得类型支持。"
   ]
  },
  {
   "cell_type": "code",
   "execution_count": 2,
   "id": "602426c4",
   "metadata": {},
   "outputs": [],
   "source": [
    "# TypedDict：用于定义状态字典的类型，包含文本、分类、实体和摘要等字段，能够对键值类型进行严格检查\n",
    "class State(TypedDict):  \n",
    "\ttext: str             # 存储原始输入文本    \n",
    "\tclassification: str   # 存储分类结果（例如类别）    \n",
    "\tentities: List[str]   # 存储提取出的实体列表（例如命名实体）    \n",
    "\tsummary: str          # 存储文本的简洁摘要\n"
   ]
  },
  {
   "cell_type": "markdown",
   "id": "4d02662a",
   "metadata": {},
   "source": [
    "定义工具，`LangGraph` 接受Python自定义函数作为工具："
   ]
  },
  {
   "cell_type": "code",
   "execution_count": 5,
   "id": "443df0fd",
   "metadata": {},
   "outputs": [],
   "source": [
    "def classification_node(state: State) -> State:\n",
    "\t\"\"\"   \n",
    "\t将文本分类为预定义的类别之一。   \n",
    "\t参数:    \n",
    "\t\t state (State): 当前状态字典，包含待分类的文本   \n",
    "\t返回:  \n",
    "\t\t\t dict: 返回包含 \"classification\" 键的字典，其值为分类结果   \n",
    "\t类别:  \n",
    "\t\t\t - News: 新闻报道类       \n",
    "\t\t\t - Blog: 个人或非正式写作       \n",
    "\t\t\t - Research: 学术或科研内容      \n",
    "\t\t\t - Other: 不属于以上类别的其它内容\n",
    "\t\"\"\"\n",
    "\t# 定义 prompt 模板，指示模型对给定文本进行分类   \n",
    "\tprompt = PromptTemplate(input_variables=[\"text\"], template=\"Classify the following text into one of the categories: News, Blog, Research, Other. Text: {text}\") \n",
    "\t\n",
    "\t# 根据当前 state 中的文本格式化 prompt  \n",
    "\tmessage = HumanMessage(content=prompt.format(text=state[\"text\"])) \n",
    "\t# 调用语言模型对文本进行分类  \n",
    "\tclassification = llm.invoke([message]).content.strip()   \n",
    "\tprint(\"Do Classification.\")\n",
    "\t# 返回包含分类结果的字典  \n",
    "\treturn {\"classification\": classification}\n",
    "\n",
    "\n",
    "def entity_extraction_node(state: State) -> State: \n",
    "\t# 用于从文本中识别并提取命名实体（按人名、组织、位置分类）  \n",
    "\t# 创建实体提取 prompt 模板，指定需要查找的实体和格式（逗号分隔） \n",
    "\tprompt = PromptTemplate( \n",
    "\t\tinput_variables=[\"text\"],      \n",
    "\t\ttemplate=\"Extract all the entities (Person, Organization, Location) from the following text. Text: {text}\" \n",
    "\t) \n",
    "\t# 根据 state 中的文本格式化 prompt 并包装为 HumanMessage  \n",
    "\tmessage = HumanMessage(content=prompt.format(text=state[\"text\"]))  \n",
    "\t# 发送给语言模型，获取响应，清除空白后按逗号分隔拆分为列表  \n",
    "\tentities = llm.invoke([message]).content.strip().split(\", \") \n",
    "\tprint(\"Extract Entities.\")\n",
    "\t# 返回包含实体列表的字典，将与 agent state 合并  \n",
    "\treturn {\"entities\": entities}\n",
    "\n",
    "def summarize_node(state: State) -> State:  \n",
    "\t# 创建摘要 prompt 模板，指示模型用一句话对文本进行总结    \n",
    "\tsummarization_prompt = PromptTemplate.from_template(   \n",
    "\t\t\"\"\"Summarize the following text in one short sentence.       \n",
    "\t\tText: {text}        \n",
    "\t\tSummary:\"\"\"   \n",
    "\t)   \n",
    "\t# 利用 \"|\" 运算符将 prompt 模板和语言模型连接起来形成一个 chain   \n",
    "\t# 运算符重载允许将 prompt 和模型组合成一个处理链\n",
    "\t# 这里的 chain 将 prompt 和模型结合起来，形成一个处理流程 \n",
    "\tchain = summarization_prompt | llm    \n",
    "\t# 执行 chain，将文本传递给模型进行摘要    \n",
    "\tresponse = chain.invoke({\"text\": state[\"text\"]}) \n",
    "\tprint(f\"Generated Summary\\n\")   \n",
    "\t# 返回包含摘要的字典，将合并进 agent state   \n",
    "\treturn {\"summary\": response.content}"
   ]
  },
  {
   "cell_type": "markdown",
   "id": "4db10ac3",
   "metadata": {},
   "source": [
    "接着就是核心部分：构建 `StateGraph` 流程图，主要包含以下内容："
   ]
  },
  {
   "cell_type": "markdown",
   "id": "269ee448",
   "metadata": {},
   "source": [
    "每个函数作为一个结点，接受并更新状态，将状态传递给下一个结点函数："
   ]
  },
  {
   "cell_type": "code",
   "execution_count": 6,
   "id": "8808a402",
   "metadata": {},
   "outputs": [
    {
     "data": {
      "text/plain": [
       "<langgraph.graph.state.StateGraph at 0x794150dd7da0>"
      ]
     },
     "execution_count": 6,
     "metadata": {},
     "output_type": "execute_result"
    }
   ],
   "source": [
    "# 创建有状态流程图\n",
    "workflow = StateGraph(State)\n",
    "\n",
    "# 向图中添加各个节点\n",
    "workflow.add_node(\"classification_node\", classification_node)\n",
    "workflow.add_node(\"entity_extraction\", entity_extraction_node)\n",
    "workflow.add_node(\"summarization\", summarize_node)"
   ]
  },
  {
   "cell_type": "markdown",
   "id": "f3359776",
   "metadata": {},
   "source": [
    "将结点用有向边进行连接，表示状态传递方向和工作顺序："
   ]
  },
  {
   "cell_type": "code",
   "execution_count": null,
   "id": "171ff796",
   "metadata": {},
   "outputs": [
    {
     "data": {
      "text/plain": [
       "<langgraph.graph.state.StateGraph at 0x794150dd7da0>"
      ]
     },
     "execution_count": 7,
     "metadata": {},
     "output_type": "execute_result"
    }
   ],
   "source": [
    "# 定义图中各节点之间的边关系\n",
    "workflow.set_entry_point(\"classification_node\") # 定义入口结点\n",
    "\n",
    "# 将结点用有向边进行连接，表示状态传递方向和工作顺序\n",
    "workflow.add_edge(\"classification_node\", \"entity_extraction\")\n",
    "workflow.add_edge(\"entity_extraction\", \"summarization\")\n",
    "\n",
    "workflow.add_edge(\"summarization\", END) # 定义结束结点"
   ]
  },
  {
   "cell_type": "markdown",
   "id": "b25245b1",
   "metadata": {},
   "source": [
    "最后编译，返回结果是根据用 `LangGraph` 构建的步骤图编译生成的可以 `invoke()` 或 `astream()` 执行的 `CompileGraph` 对象："
   ]
  },
  {
   "cell_type": "code",
   "execution_count": 10,
   "id": "de0a9de6",
   "metadata": {},
   "outputs": [],
   "source": [
    "agent = workflow.compile()"
   ]
  },
  {
   "cell_type": "markdown",
   "id": "f2afb67a",
   "metadata": {},
   "source": [
    "初始状态仅为用户输入文本。每个结点函数都会返回一个字典，包含本节点新生成的内容（即本结点完成的任务）。\n",
    "\n",
    "通过 `LangGraph` 中的 `StateGraph` ，自动将每个回的字典与当前的 state 合并，形成新的 state，传递给下一个节点，形成有状态流程图的工作流。"
   ]
  },
  {
   "cell_type": "markdown",
   "id": "fff0ed2e",
   "metadata": {},
   "source": [
    "尝试运行："
   ]
  },
  {
   "cell_type": "code",
   "execution_count": 12,
   "id": "58ed1945",
   "metadata": {},
   "outputs": [
    {
     "name": "stdout",
     "output_type": "stream",
     "text": [
      "Do Classification.\n",
      "Extract Entities.\n",
      "Generated Summary\n",
      "\n",
      "Classification: The text can be classified as **Research**.\n",
      "\n",
      "Entities:\n",
      "From the provided text\n",
      "the following entities can be extracted:\n",
      "\n",
      "**Organizations:**\n",
      "- LangGraph\n",
      "\n",
      "**Locations:**\n",
      "- None identified in the text.\n",
      "\n",
      "**Persons:**\n",
      "- None identified in the text. \n",
      "\n",
      "The text primarily discusses a technology (LangGraph) and its functionalities without mentioning specific individuals or locations.\n",
      "\n",
      "Summary: A LangGraph agent is a stateful reasoning system that utilizes a directed graph structure for dynamic workflows with language models, enabling complex and interpretable multi-step applications.\n"
     ]
    }
   ],
   "source": [
    "# 一段关于 LangGraph agent 的样本文本\n",
    "sample_text = \"\"\"\n",
    "A LangGraph agent is a structured, stateful reasoning system built using LangGraph, \n",
    "a library designed for defining and executing dynamic workflows with language models. \n",
    "Unlike traditional agents that rely on linear or reactive chains, a LangGraph agent \n",
    "operates over a directed graph where each node represents a step—such as calling a tool, \n",
    "processing a response, or checking a condition—and edges define possible transitions based \n",
    "on the current state. The agent maintains a shared state throughout execution, often \n",
    "defined using TypedDict, allowing for consistent data flow and decision-making across \n",
    "steps. This architecture enables complex, controllable, and interpretable behavior in \n",
    "multi-step language model applications such as tool-augmented question answering, autonomous \n",
    "reasoning, or multi-turn dialogue management.\n",
    "\"\"\"\n",
    "\n",
    "# 构造包含样本文本的初始 state\n",
    "state_input = {\"text\": sample_text}\n",
    "# 运行 agent 的全流程\n",
    "result = agent.invoke(state_input)\n",
    "\n",
    "# 输出各个部分的结果：\n",
    "# 分类结果（News、Blog、Research 或 Other）\n",
    "print(\"Classification:\", result[\"classification\"])\n",
    "\n",
    "# 提取出的实体（人名、组织、地点等）\n",
    "print(\"\\nEntities:\")\n",
    "for entity in result[\"entities\"]:\n",
    "\tprint(entity)\n",
    "\n",
    "# 生成的文本摘要\n",
    "print(\"\\nSummary:\", result[\"summary\"])"
   ]
  }
 ],
 "metadata": {
  "kernelspec": {
   "display_name": ".venv",
   "language": "python",
   "name": "python3"
  },
  "language_info": {
   "codemirror_mode": {
    "name": "ipython",
    "version": 3
   },
   "file_extension": ".py",
   "mimetype": "text/x-python",
   "name": "python",
   "nbconvert_exporter": "python",
   "pygments_lexer": "ipython3",
   "version": "3.12.3"
  }
 },
 "nbformat": 4,
 "nbformat_minor": 5
}
